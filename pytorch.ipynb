{
 "cells": [
  {
   "cell_type": "code",
   "execution_count": 1,
   "metadata": {},
   "outputs": [],
   "source": [
    "import torch"
   ]
  },
  {
   "cell_type": "code",
   "execution_count": 2,
   "metadata": {},
   "outputs": [
    {
     "data": {
      "text/plain": [
       "'1.13.1+cpu'"
      ]
     },
     "execution_count": 2,
     "metadata": {},
     "output_type": "execute_result"
    }
   ],
   "source": [
    "torch.__version__"
   ]
  },
  {
   "cell_type": "code",
   "execution_count": 2,
   "metadata": {},
   "outputs": [],
   "source": [
    "%config Completer.use_jedi = False # 자동완성 켜기"
   ]
  },
  {
   "cell_type": "code",
   "execution_count": 4,
   "metadata": {},
   "outputs": [
    {
     "name": "stdout",
     "output_type": "stream",
     "text": [
      "tensor([[0., 0.],\n",
      "        [0., 0.],\n",
      "        [0., 0.],\n",
      "        [0., 0.]])\n"
     ]
    }
   ],
   "source": [
    "# 초기화 되지 않은 텐서\n",
    "x = torch.empty(4,2)\n",
    "print(x)"
   ]
  },
  {
   "cell_type": "code",
   "execution_count": 5,
   "metadata": {},
   "outputs": [
    {
     "data": {
      "text/plain": [
       "tensor([[0.0168, 0.5030],\n",
       "        [0.6730, 0.8864],\n",
       "        [0.3727, 0.1743],\n",
       "        [0.5763, 0.1148]])"
      ]
     },
     "execution_count": 5,
     "metadata": {},
     "output_type": "execute_result"
    }
   ],
   "source": [
    "# 무작위로 초기화된 텐서\n",
    "x = torch.rand(4,2)\n",
    "x"
   ]
  },
  {
   "cell_type": "code",
   "execution_count": 6,
   "metadata": {},
   "outputs": [
    {
     "data": {
      "text/plain": [
       "tensor([3.0000, 2.3000])"
      ]
     },
     "execution_count": 6,
     "metadata": {},
     "output_type": "execute_result"
    }
   ],
   "source": [
    "# 사용자가 입력된 값으로 텐서 초기화\n",
    "x = torch.tensor([3, 2.3])\n",
    "x"
   ]
  },
  {
   "cell_type": "code",
   "execution_count": 7,
   "metadata": {},
   "outputs": [
    {
     "data": {
      "text/plain": [
       "tensor([[1., 1., 1., 1.],\n",
       "        [1., 1., 1., 1.]], dtype=torch.float64)"
      ]
     },
     "execution_count": 7,
     "metadata": {},
     "output_type": "execute_result"
    }
   ],
   "source": [
    "# 2*4 크기,double type, 1로 채워진 텐서\n",
    "x = x.new_ones(2,4,dtype=torch.double)\n",
    "x"
   ]
  },
  {
   "cell_type": "code",
   "execution_count": 8,
   "metadata": {},
   "outputs": [
    {
     "data": {
      "text/plain": [
       "tensor([[ 0.3364,  0.4736,  0.7121,  0.4845],\n",
       "        [-0.6146,  0.5763,  1.1034, -1.2444]])"
      ]
     },
     "execution_count": 8,
     "metadata": {},
     "output_type": "execute_result"
    }
   ],
   "source": [
    "# x(2*4)와 같은 크기, float type, 무작위로 채워진 텐서\n",
    "x = torch.randn_like(x, dtype=torch.float)\n",
    "x"
   ]
  },
  {
   "cell_type": "code",
   "execution_count": 9,
   "metadata": {},
   "outputs": [
    {
     "data": {
      "text/plain": [
       "torch.Size([2, 4])"
      ]
     },
     "execution_count": 9,
     "metadata": {},
     "output_type": "execute_result"
    }
   ],
   "source": [
    "# 텐서 크기계산\n",
    "x.size()"
   ]
  },
  {
   "cell_type": "code",
   "execution_count": 10,
   "metadata": {},
   "outputs": [
    {
     "name": "stdout",
     "output_type": "stream",
     "text": [
      "tensor([1., 2., 3.])\n",
      "torch.float32\n"
     ]
    }
   ],
   "source": [
    "ft = torch.FloatTensor([1,2,3])\n",
    "print(ft)\n",
    "print(ft.dtype)"
   ]
  },
  {
   "cell_type": "code",
   "execution_count": 11,
   "metadata": {},
   "outputs": [
    {
     "name": "stdout",
     "output_type": "stream",
     "text": [
      "tensor([1, 2, 3], dtype=torch.int16)\n",
      "tensor([1, 2, 3], dtype=torch.int32)\n",
      "tensor([1, 2, 3])\n"
     ]
    }
   ],
   "source": [
    "print(ft.short())\n",
    "print(ft.int())\n",
    "print(ft.long())"
   ]
  },
  {
   "cell_type": "code",
   "execution_count": 13,
   "metadata": {},
   "outputs": [
    {
     "name": "stdout",
     "output_type": "stream",
     "text": [
      "tensor([1.0238])\n",
      "1.0238337516784668\n",
      "torch.float32\n",
      "cpu\n",
      "tensor([1.])\n",
      "tensor([1.0238])\n",
      "tensor([2.0238])\n",
      "tensor([2.0238], dtype=torch.float64)\n"
     ]
    }
   ],
   "source": [
    "# CUDA tensor\n",
    "\n",
    "x = torch.randn(1)\n",
    "print(x)\n",
    "print(x.item())\n",
    "print(x.dtype)\n",
    "\n",
    "device = torch.device('cuda' if torch.cuda.is_available() else 'cpu')\n",
    "print(device)\n",
    "y = torch.ones_like(x, device=device)\n",
    "print(y)\n",
    "x = x.to(device)\n",
    "print(x)\n",
    "z = x + y\n",
    "print(z)\n",
    "print(z.to('cpu', torch.double))"
   ]
  },
  {
   "cell_type": "code",
   "execution_count": 17,
   "metadata": {},
   "outputs": [
    {
     "name": "stdout",
     "output_type": "stream",
     "text": [
      "0\n",
      "torch.Size([])\n",
      "tensor(0)\n"
     ]
    }
   ],
   "source": [
    "# 0D tensor\n",
    "\n",
    "t0 = torch.tensor(0)\n",
    "print(t0.ndim)\n",
    "print(t0.shape)\n",
    "print(t0)"
   ]
  },
  {
   "cell_type": "code",
   "execution_count": 18,
   "metadata": {},
   "outputs": [
    {
     "name": "stdout",
     "output_type": "stream",
     "text": [
      "1\n",
      "torch.Size([3])\n",
      "tensor([1, 2, 3])\n"
     ]
    }
   ],
   "source": [
    "# 1D tensor\n",
    "\n",
    "t1 = torch.tensor([1,2,3])\n",
    "print(t1.ndim)\n",
    "print(t1.shape)\n",
    "print(t1)"
   ]
  },
  {
   "cell_type": "code",
   "execution_count": 20,
   "metadata": {},
   "outputs": [
    {
     "name": "stdout",
     "output_type": "stream",
     "text": [
      "2\n",
      "torch.Size([3, 3])\n",
      "tensor([[1, 2, 3],\n",
      "        [4, 5, 6],\n",
      "        [7, 8, 9]])\n"
     ]
    }
   ],
   "source": [
    "# 2D tensor\n",
    "\n",
    "t2 = torch.tensor([[1,2,3],\n",
    "                 [4,5,6],\n",
    "                 [7,8,9]])\n",
    "print(t2.ndim)\n",
    "print(t2.shape)\n",
    "print(t2)"
   ]
  },
  {
   "cell_type": "code",
   "execution_count": 22,
   "metadata": {},
   "outputs": [
    {
     "name": "stdout",
     "output_type": "stream",
     "text": [
      "3\n",
      "torch.Size([3, 3, 3])\n",
      "tensor([[[1, 2, 3],\n",
      "         [4, 5, 6],\n",
      "         [7, 8, 9]],\n",
      "\n",
      "        [[1, 2, 3],\n",
      "         [4, 5, 6],\n",
      "         [7, 8, 9]],\n",
      "\n",
      "        [[1, 2, 3],\n",
      "         [4, 5, 6],\n",
      "         [7, 8, 9]]])\n"
     ]
    }
   ],
   "source": [
    "# 3D tensor\n",
    "\n",
    "t3 = torch.tensor([[[1,2,3],\n",
    "                 [4,5,6],\n",
    "                 [7,8,9]],\n",
    "                 [[1,2,3],\n",
    "                 [4,5,6],\n",
    "                 [7,8,9]],\n",
    "                 [[1,2,3],\n",
    "                 [4,5,6],\n",
    "                 [7,8,9]]])\n",
    "print(t3.ndim)\n",
    "print(t3.shape)\n",
    "print(t3)"
   ]
  },
  {
   "cell_type": "code",
   "execution_count": 25,
   "metadata": {},
   "outputs": [
    {
     "name": "stdout",
     "output_type": "stream",
     "text": [
      "tensor([[-0.8813,  0.8869]])\n",
      "tensor([[0.8813, 0.8869]])\n",
      "tensor([[-0., 1.]])\n",
      "tensor([[-0.5000,  0.5000]])\n"
     ]
    }
   ],
   "source": [
    "# tensor의 연산\n",
    "\n",
    "import math\n",
    "\n",
    "a = torch.rand(1,2) * 2 - 1\n",
    "print(a)\n",
    "print(torch.abs(a))\n",
    "print(torch.ceil(a))\n",
    "print(torch.clamp(a,-0.5,0.5)) # clamp : 최대 또는 최소를 경계값으로 설정하여 최대보다 크거나 최소보다 작으면 최대 및 최소를 출력"
   ]
  },
  {
   "cell_type": "code",
   "execution_count": 26,
   "metadata": {},
   "outputs": [
    {
     "name": "stdout",
     "output_type": "stream",
     "text": [
      "tensor([[0.4626, 0.7332],\n",
      "        [0.0224, 0.1630]])\n",
      "torch.return_types.max(\n",
      "values=tensor([0.4626, 0.7332]),\n",
      "indices=tensor([0, 0]))\n",
      "torch.return_types.max(\n",
      "values=tensor([0.7332, 0.1630]),\n",
      "indices=tensor([1, 1]))\n"
     ]
    }
   ],
   "source": [
    "# max, min\n",
    "\n",
    "x = torch.rand(2,2)\n",
    "print(x)\n",
    "# dim을 설정해 차원을 설정할 수 있음\n",
    "print(x.max(dim=0))\n",
    "print(x.max(dim=1))\n",
    "\n",
    "# min도 동일한 방법으로 !"
   ]
  },
  {
   "cell_type": "code",
   "execution_count": 27,
   "metadata": {},
   "outputs": [
    {
     "name": "stdout",
     "output_type": "stream",
     "text": [
      "tensor([[0.2698, 0.6534],\n",
      "        [0.6303, 0.6301]])\n",
      "tensor([[0.3531, 0.6071],\n",
      "        [0.6447, 0.5949]])\n",
      "tensor([[0.6229, 1.2605],\n",
      "        [1.2750, 1.2250]])\n",
      "tensor([[0.6229, 1.2605],\n",
      "        [1.2750, 1.2250]])\n"
     ]
    }
   ],
   "source": [
    "x = torch.rand(2,2)\n",
    "print(x)\n",
    "y = torch.rand(2,2)\n",
    "print(y)\n",
    "\n",
    "# 둘 다 동일한 값 출력\n",
    "print(x+y)\n",
    "print(torch.add(x,y))\n",
    "\n",
    "# add 덧셈, sub 뺄셈, mul 곱셉, div 나눗셈, matmul(mm) 내적, usv 분해"
   ]
  },
  {
   "cell_type": "code",
   "execution_count": 30,
   "metadata": {},
   "outputs": [
    {
     "name": "stdout",
     "output_type": "stream",
     "text": [
      "tensor([[0., 0.],\n",
      "        [0., 0.]])\n",
      "tensor([[0.6229, 1.2605],\n",
      "        [1.2750, 1.2250]])\n"
     ]
    }
   ],
   "source": [
    "res = torch.empty(2,2)\n",
    "print(res)\n",
    "torch.add(x,y, out=res)\n",
    "print(res)"
   ]
  },
  {
   "cell_type": "code",
   "execution_count": 31,
   "metadata": {},
   "outputs": [
    {
     "name": "stdout",
     "output_type": "stream",
     "text": [
      "tensor([[0.2698, 0.6534],\n",
      "        [0.6303, 0.6301]])\n",
      "tensor([[0.3531, 0.6071],\n",
      "        [0.6447, 0.5949]])\n",
      "tensor([[0.6229, 1.2605],\n",
      "        [1.2750, 1.2250]])\n"
     ]
    }
   ],
   "source": [
    "# in-place\n",
    "\n",
    "print(x)\n",
    "print(y)\n",
    "y.add_(x) # x+y 값을 y로 할당\n",
    "print(y)"
   ]
  },
  {
   "cell_type": "code",
   "execution_count": 35,
   "metadata": {},
   "outputs": [
    {
     "name": "stdout",
     "output_type": "stream",
     "text": [
      "tensor([[1, 2],\n",
      "        [3, 4]])\n",
      "tensor(1)\n",
      "tensor(2)\n",
      "tensor([1, 3])\n",
      "tensor([2, 4])\n",
      "tensor([1, 2])\n"
     ]
    }
   ],
   "source": [
    "# indexing\n",
    "\n",
    "x = torch.tensor([[1,2],\n",
    "                  [3,4]])\n",
    "\n",
    "print(x)\n",
    "print(x[0,0])\n",
    "print(x[0,1])\n",
    "\n",
    "print(x[:,0])\n",
    "print(x[:,1])\n",
    "print(x[0,:])"
   ]
  },
  {
   "cell_type": "code",
   "execution_count": 38,
   "metadata": {},
   "outputs": [
    {
     "name": "stdout",
     "output_type": "stream",
     "text": [
      "tensor([[-0.6596,  1.4578, -0.7411, -0.2691, -0.8357],\n",
      "        [-0.1034,  1.4696, -0.9514, -0.5466, -0.8094],\n",
      "        [ 0.8336,  1.1207,  0.4057,  0.8865, -0.6195],\n",
      "        [-1.4376, -0.4371, -0.8817, -0.9100, -0.2228]])\n",
      "tensor([-0.6596,  1.4578, -0.7411, -0.2691, -0.8357, -0.1034,  1.4696, -0.9514,\n",
      "        -0.5466, -0.8094,  0.8336,  1.1207,  0.4057,  0.8865, -0.6195, -1.4376,\n",
      "        -0.4371, -0.8817, -0.9100, -0.2228])\n",
      "tensor([[-0.6596,  1.4578, -0.7411, -0.2691],\n",
      "        [-0.8357, -0.1034,  1.4696, -0.9514],\n",
      "        [-0.5466, -0.8094,  0.8336,  1.1207],\n",
      "        [ 0.4057,  0.8865, -0.6195, -1.4376],\n",
      "        [-0.4371, -0.8817, -0.9100, -0.2228]])\n"
     ]
    }
   ],
   "source": [
    "# view : size나 shape 변경\n",
    "\n",
    "x = torch.randn(4,5)\n",
    "print(x)\n",
    "y = x.view(20)\n",
    "print(y)\n",
    "z = x.view(5,-1)\n",
    "print(z)"
   ]
  },
  {
   "cell_type": "code",
   "execution_count": 39,
   "metadata": {},
   "outputs": [
    {
     "name": "stdout",
     "output_type": "stream",
     "text": [
      "tensor([0.1052])\n",
      "0.10521186143159866\n",
      "torch.float32\n"
     ]
    }
   ],
   "source": [
    "# item : 텐서에 값이 하나라도 있으면 숫자값을 얻을 수 있다.\n",
    "\n",
    "x = torch.randn(1)\n",
    "print(x)\n",
    "print(x.item())\n",
    "print(x.dtype)"
   ]
  },
  {
   "cell_type": "code",
   "execution_count": 44,
   "metadata": {},
   "outputs": [
    {
     "name": "stdout",
     "output_type": "stream",
     "text": [
      "tensor([[[0.8602, 0.8224, 0.8700],\n",
      "         [0.0310, 0.7854, 0.2916],\n",
      "         [0.6212, 0.4339, 0.4862]]])\n",
      "torch.Size([1, 3, 3])\n",
      "tensor([[0.8602, 0.8224, 0.8700],\n",
      "        [0.0310, 0.7854, 0.2916],\n",
      "        [0.6212, 0.4339, 0.4862]])\n",
      "torch.Size([3, 3])\n",
      "tensor([[0.8084, 0.8085, 0.6927],\n",
      "        [0.9583, 0.4676, 0.5876],\n",
      "        [0.3907, 0.7812, 0.6143]])\n",
      "torch.Size([3, 3])\n",
      "tensor([[[0.8084],\n",
      "         [0.8085],\n",
      "         [0.6927]],\n",
      "\n",
      "        [[0.9583],\n",
      "         [0.4676],\n",
      "         [0.5876]],\n",
      "\n",
      "        [[0.3907],\n",
      "         [0.7812],\n",
      "         [0.6143]]])\n",
      "torch.Size([3, 3, 1])\n"
     ]
    }
   ],
   "source": [
    "# squeeze : 차원 축소\n",
    "\n",
    "tensor = torch.rand(1,3,3)\n",
    "print(tensor)\n",
    "print(tensor.shape)\n",
    "t = tensor.squeeze()\n",
    "print(t)\n",
    "print(t.shape)\n",
    "\n",
    "# unsqueeze : 차원 증가\n",
    "ten = torch.rand(3,3)\n",
    "print(ten)\n",
    "print(ten.shape)\n",
    "ten = ten.unsqueeze(dim=2)\n",
    "print(ten)\n",
    "print(ten.shape)"
   ]
  },
  {
   "cell_type": "code",
   "execution_count": 45,
   "metadata": {},
   "outputs": [
    {
     "name": "stdout",
     "output_type": "stream",
     "text": [
      "tensor([[1., 4.],\n",
      "        [2., 5.],\n",
      "        [3., 6.]])\n"
     ]
    }
   ],
   "source": [
    "# stack : 텐서 결합\n",
    "\n",
    "x = torch.FloatTensor([1,4])\n",
    "y = torch.FloatTensor([2,5])\n",
    "z = torch.FloatTensor([3,6])\n",
    "\n",
    "print(torch.stack([x,y,z]))"
   ]
  },
  {
   "cell_type": "code",
   "execution_count": 56,
   "metadata": {},
   "outputs": [
    {
     "name": "stdout",
     "output_type": "stream",
     "text": [
      "tensor([[[ 0.7314,  1.1587,  0.5524],\n",
      "         [ 0.2762,  0.2411, -0.6400],\n",
      "         [ 0.4087, -0.2821,  0.9297]]])\n",
      "tensor([[[ 1.6334, -0.4936, -1.9466],\n",
      "         [ 0.9251,  1.3013, -1.1436],\n",
      "         [-0.8161, -1.0045,  0.0428]]])\n",
      "torch.Size([2, 3, 3])\n",
      "torch.Size([1, 6, 3])\n",
      "torch.Size([1, 3, 6])\n"
     ]
    }
   ],
   "source": [
    "# cat : 텐서 결합(dim을 설정해야함)\n",
    "\n",
    "a = torch.randn(1,3,3)\n",
    "print(a)\n",
    "b = torch.randn(1,3,3)\n",
    "print(b)\n",
    "c1 = torch.cat((a,b),dim=0)\n",
    "c2 = torch.cat((a,b),dim=1)\n",
    "c3 = torch.cat((a,b),dim=2)\n",
    "\n",
    "print(c1.size())\n",
    "print(c2.size())\n",
    "print(c3.size())"
   ]
  },
  {
   "cell_type": "code",
   "execution_count": 65,
   "metadata": {},
   "outputs": [
    {
     "name": "stdout",
     "output_type": "stream",
     "text": [
      "tensor([[0.9483, 0.8525, 0.0526, 0.7110, 0.2801, 0.8943],\n",
      "        [0.4633, 0.6677, 0.9582, 0.8726, 0.4438, 0.8384],\n",
      "        [0.7505, 0.3462, 0.6856, 0.0987, 0.3512, 0.7297]])\n",
      "tensor([[0.9483, 0.8525],\n",
      "        [0.4633, 0.6677],\n",
      "        [0.7505, 0.3462]])\n",
      "tensor([[0.0526, 0.7110],\n",
      "        [0.9582, 0.8726],\n",
      "        [0.6856, 0.0987]])\n",
      "tensor([[0.2801, 0.8943],\n",
      "        [0.4438, 0.8384],\n",
      "        [0.3512, 0.7297]])\n"
     ]
    }
   ],
   "source": [
    "# chunk : 텐서를 여러개로 나눌 때\n",
    "\n",
    "ten = torch.rand(3,6)\n",
    "print(ten)\n",
    "\n",
    "t1, t2, t3 = torch.chunk(ten, 3, dim=1) # dim = 1 열 기준, dim = 0 행 기준\n",
    "print(t1)\n",
    "print(t2)\n",
    "print(t3)"
   ]
  },
  {
   "cell_type": "code",
   "execution_count": 64,
   "metadata": {},
   "outputs": [
    {
     "name": "stdout",
     "output_type": "stream",
     "text": [
      "tensor([[0.2018, 0.3259, 0.8006],\n",
      "        [0.2115, 0.1484, 0.1155],\n",
      "        [0.6270, 0.6980, 0.1226]])\n",
      "tensor([[0.9474, 0.7873, 0.9717],\n",
      "        [0.7990, 0.1702, 0.6796],\n",
      "        [0.3738, 0.3272, 0.6515]])\n"
     ]
    }
   ],
   "source": [
    "# split : chunk와 동일하지만 기능이 조금 다름\n",
    "\n",
    "t1, t2 = torch.split(ten,3,dim=1)\n",
    "\n",
    "print(t1)\n",
    "print(t2)"
   ]
  },
  {
   "cell_type": "code",
   "execution_count": 68,
   "metadata": {},
   "outputs": [
    {
     "name": "stdout",
     "output_type": "stream",
     "text": [
      "tensor([1., 1., 1., 1., 1., 1., 1.])\n",
      "[1. 1. 1. 1. 1. 1. 1.]\n",
      "[1. 1. 1. 1. 1. 1. 1.]\n",
      "tensor([1., 1., 1., 1., 1., 1., 1.], dtype=torch.float64)\n"
     ]
    }
   ],
   "source": [
    "# torch -> numpy\n",
    "\n",
    "a = torch.ones(7)\n",
    "print(a)\n",
    "b = a.numpy()\n",
    "print(b)\n",
    "\n",
    "import numpy as np\n",
    "a = np.ones(7)\n",
    "print(a)\n",
    "b = torch.from_numpy(a)\n",
    "print(b)"
   ]
  },
  {
   "cell_type": "code",
   "execution_count": 72,
   "metadata": {},
   "outputs": [
    {
     "name": "stdout",
     "output_type": "stream",
     "text": [
      "tensor([[-7.2135, -0.2485, -1.0695],\n",
      "        [-3.5586, -0.3858,  3.5931],\n",
      "        [-0.8760,  3.6644, -1.1055]])\n",
      "False\n",
      "True\n",
      "tensor(94.3808, grad_fn=<SumBackward0>)\n",
      "<SumBackward0 object at 0x0000012BB93A18E0>\n"
     ]
    }
   ],
   "source": [
    "# requires_grad : 텐서에서 이루어지는 연산 추적\n",
    "\n",
    "a = torch.randn(3,3)\n",
    "a = a * 3\n",
    "print(a)\n",
    "print(a.requires_grad)\n",
    "a.requires_grad_(True)\n",
    "print(a.requires_grad)\n",
    "\n",
    "b = (a*a).sum()\n",
    "print(b)\n",
    "print(b.grad_fn) # 미분값을 계산한 함수에 대한 정보 저장"
   ]
  },
  {
   "cell_type": "code",
   "execution_count": 86,
   "metadata": {},
   "outputs": [
    {
     "name": "stdout",
     "output_type": "stream",
     "text": [
      "tensor([[1., 1., 1.],\n",
      "        [1., 1., 1.],\n",
      "        [1., 1., 1.]], requires_grad=True)\n",
      "tensor([[6., 6., 6.],\n",
      "        [6., 6., 6.],\n",
      "        [6., 6., 6.]], grad_fn=<AddBackward0>)\n",
      "tensor([[36., 36., 36.],\n",
      "        [36., 36., 36.],\n",
      "        [36., 36., 36.]], grad_fn=<MulBackward0>) tensor(36., grad_fn=<MeanBackward0>)\n",
      "<bound method Tensor.backward of tensor(36., grad_fn=<MeanBackward0>)>\n"
     ]
    }
   ],
   "source": [
    "# gradient : 기울기\n",
    "\n",
    "x = torch.ones(3,3,requires_grad=True)\n",
    "print(x)\n",
    "\n",
    "y = x + 5\n",
    "print(y)\n",
    "\n",
    "z = y*y\n",
    "out = z.mean()\n",
    "print(z,out)"
   ]
  },
  {
   "cell_type": "code",
   "execution_count": 91,
   "metadata": {},
   "outputs": [
    {
     "name": "stdout",
     "output_type": "stream",
     "text": [
      "tensor(36., grad_fn=<MeanBackward0>)\n"
     ]
    }
   ],
   "source": [
    "print(out)\n",
    "out.backward() # 계산이 완료된 후 backward를 호출하면 자동으로 역전파 계산"
   ]
  },
  {
   "cell_type": "code",
   "execution_count": 93,
   "metadata": {},
   "outputs": [
    {
     "name": "stdout",
     "output_type": "stream",
     "text": [
      "tensor([[1., 1., 1.],\n",
      "        [1., 1., 1.],\n",
      "        [1., 1., 1.]], requires_grad=True)\n",
      "tensor([[1.3333, 1.3333, 1.3333],\n",
      "        [1.3333, 1.3333, 1.3333],\n",
      "        [1.3333, 1.3333, 1.3333]])\n"
     ]
    }
   ],
   "source": [
    "# 자동 미분\n",
    "\n",
    "print(x)\n",
    "print(x.grad)"
   ]
  },
  {
   "cell_type": "code",
   "execution_count": 104,
   "metadata": {},
   "outputs": [
    {
     "name": "stdout",
     "output_type": "stream",
     "text": [
      "tensor([ -150.4620, -1007.3784,   509.6524], grad_fn=<MulBackward0>)\n"
     ]
    }
   ],
   "source": [
    "x = torch.randn(3, requires_grad=True)\n",
    "\n",
    "y = x * 2\n",
    "while y.data.norm() < 1000:\n",
    "    y = y*2\n",
    "\n",
    "print(y)"
   ]
  },
  {
   "cell_type": "code",
   "execution_count": 105,
   "metadata": {},
   "outputs": [
    {
     "name": "stdout",
     "output_type": "stream",
     "text": [
      "tensor([5.1200e+01, 5.1200e+02, 5.1200e-02])\n"
     ]
    }
   ],
   "source": [
    "v = torch.tensor([0.1,1.0,0.0001],dtype=torch.float)\n",
    "y.backward(v)\n",
    "\n",
    "print(x.grad)"
   ]
  },
  {
   "cell_type": "code",
   "execution_count": 107,
   "metadata": {},
   "outputs": [
    {
     "name": "stdout",
     "output_type": "stream",
     "text": [
      "tensor([[1., 1.],\n",
      "        [1., 1.]], requires_grad=True)\n",
      "tensor([[1., 1.],\n",
      "        [1., 1.]])\n",
      "None\n",
      "None\n"
     ]
    }
   ],
   "source": [
    "a = torch.ones(2,2,requires_grad=True)\n",
    "print(a)\n",
    "\n",
    "print(a.data)\n",
    "print(a.grad)\n",
    "print(a.grad_fn)"
   ]
  },
  {
   "cell_type": "code",
   "execution_count": 108,
   "metadata": {},
   "outputs": [
    {
     "name": "stdout",
     "output_type": "stream",
     "text": [
      "tensor([[3., 3.],\n",
      "        [3., 3.]], grad_fn=<AddBackward0>)\n"
     ]
    }
   ],
   "source": [
    "b = a + 2\n",
    "print(b)"
   ]
  },
  {
   "cell_type": "code",
   "execution_count": 109,
   "metadata": {},
   "outputs": [
    {
     "name": "stdout",
     "output_type": "stream",
     "text": [
      "tensor([[9., 9.],\n",
      "        [9., 9.]], grad_fn=<PowBackward0>)\n"
     ]
    }
   ],
   "source": [
    "c = b ** 2\n",
    "print(c)"
   ]
  },
  {
   "cell_type": "code",
   "execution_count": 110,
   "metadata": {},
   "outputs": [
    {
     "name": "stdout",
     "output_type": "stream",
     "text": [
      "tensor(36., grad_fn=<SumBackward0>)\n"
     ]
    }
   ],
   "source": [
    "out = c.sum()\n",
    "print(out)"
   ]
  },
  {
   "cell_type": "code",
   "execution_count": 111,
   "metadata": {},
   "outputs": [],
   "source": [
    "out.backward()"
   ]
  },
  {
   "cell_type": "code",
   "execution_count": 112,
   "metadata": {},
   "outputs": [
    {
     "name": "stdout",
     "output_type": "stream",
     "text": [
      "tensor([[1., 1.],\n",
      "        [1., 1.]])\n",
      "tensor([[6., 6.],\n",
      "        [6., 6.]])\n",
      "None\n"
     ]
    }
   ],
   "source": [
    "print(a.data)\n",
    "print(a.grad)\n",
    "print(a.grad_fn)"
   ]
  },
  {
   "cell_type": "code",
   "execution_count": 113,
   "metadata": {},
   "outputs": [
    {
     "name": "stdout",
     "output_type": "stream",
     "text": [
      "tensor([[3., 3.],\n",
      "        [3., 3.]])\n",
      "None\n",
      "<AddBackward0 object at 0x0000012BB7EC3FD0>\n"
     ]
    },
    {
     "name": "stderr",
     "output_type": "stream",
     "text": [
      "<ipython-input-113-7222c1aec66c>:2: UserWarning: The .grad attribute of a Tensor that is not a leaf Tensor is being accessed. Its .grad attribute won't be populated during autograd.backward(). If you indeed want the .grad field to be populated for a non-leaf Tensor, use .retain_grad() on the non-leaf Tensor. If you access the non-leaf Tensor by mistake, make sure you access the leaf Tensor instead. See github.com/pytorch/pytorch/pull/30531 for more informations. (Triggered internally at C:\\actions-runner\\_work\\pytorch\\pytorch\\builder\\windows\\pytorch\\build\\aten\\src\\ATen/core/TensorBody.h:485.)\n",
      "  print(b.grad)\n"
     ]
    }
   ],
   "source": [
    "print(b.data)\n",
    "print(b.grad)\n",
    "print(b.grad_fn)"
   ]
  },
  {
   "cell_type": "code",
   "execution_count": 114,
   "metadata": {},
   "outputs": [
    {
     "name": "stdout",
     "output_type": "stream",
     "text": [
      "tensor([[9., 9.],\n",
      "        [9., 9.]])\n",
      "None\n",
      "<PowBackward0 object at 0x0000012BA324D6A0>\n"
     ]
    },
    {
     "name": "stderr",
     "output_type": "stream",
     "text": [
      "<ipython-input-114-f6ca42a4f63f>:2: UserWarning: The .grad attribute of a Tensor that is not a leaf Tensor is being accessed. Its .grad attribute won't be populated during autograd.backward(). If you indeed want the .grad field to be populated for a non-leaf Tensor, use .retain_grad() on the non-leaf Tensor. If you access the non-leaf Tensor by mistake, make sure you access the leaf Tensor instead. See github.com/pytorch/pytorch/pull/30531 for more informations. (Triggered internally at C:\\actions-runner\\_work\\pytorch\\pytorch\\builder\\windows\\pytorch\\build\\aten\\src\\ATen/core/TensorBody.h:485.)\n",
      "  print(c.grad)\n"
     ]
    }
   ],
   "source": [
    "print(c.data)\n",
    "print(c.grad)\n",
    "print(c.grad_fn)"
   ]
  },
  {
   "cell_type": "code",
   "execution_count": 1,
   "metadata": {},
   "outputs": [],
   "source": [
    "import torch\n",
    "import torch.nn as nn"
   ]
  },
  {
   "cell_type": "code",
   "execution_count": 26,
   "metadata": {},
   "outputs": [
    {
     "name": "stdout",
     "output_type": "stream",
     "text": [
      "0.0 4.666666507720947\n",
      "1.4000000953674316 0.7466669678688049\n",
      "0.8399999141693115 0.11946680396795273\n",
      "1.0640000104904175 0.0191146582365036\n",
      "0.9744000434875488 0.00305833644233644\n",
      "1.0102399587631226 0.0004893290461041033\n",
      "0.9959040284156799 7.829209789633751e-05\n",
      "1.001638412475586 1.2527179023891222e-05\n",
      "0.9993446469306946 2.0041973129991675e-06\n",
      "1.0002621412277222 3.206215808404522e-07\n"
     ]
    }
   ],
   "source": [
    "x = torch.FloatTensor([[1],[2],[3]])\n",
    "y = torch.FloatTensor([[1],[2],[3]])\n",
    "\n",
    "w = torch.zeros(1,requires_grad=True)\n",
    "opt = torch.optim.SGD([w], lr=0.15)\n",
    "\n",
    "for i in range(10):\n",
    "    hypo = x * w\n",
    "    cost = torch.mean((hypo - y)**2)\n",
    "    print(w.item(),cost.item())\n",
    "    \n",
    "    opt.zero_grad()\n",
    "    cost.backward()\n",
    "    opt.step()\n"
   ]
  },
  {
   "cell_type": "code",
   "execution_count": 4,
   "metadata": {},
   "outputs": [
    {
     "name": "stdout",
     "output_type": "stream",
     "text": [
      "Epoch    0/20 hypo : tensor([0., 0., 0., 0., 0.]) Cost: 29661.800781\n",
      "Epoch    1/20 hypo : tensor([67.2578, 80.8397, 79.6523, 86.7394, 61.6605]) Cost: 9298.520508\n",
      "Epoch    2/20 hypo : tensor([104.9128, 126.0990, 124.2466, 135.3015,  96.1821]) Cost: 2915.712891\n",
      "Epoch    3/20 hypo : tensor([125.9942, 151.4381, 149.2133, 162.4896, 115.5097]) Cost: 915.040527\n",
      "Epoch    4/20 hypo : tensor([137.7968, 165.6247, 163.1911, 177.7112, 126.3307]) Cost: 287.936005\n",
      "Epoch    5/20 hypo : tensor([144.4044, 173.5674, 171.0168, 186.2332, 132.3891]) Cost: 91.371010\n",
      "Epoch    6/20 hypo : tensor([148.1035, 178.0144, 175.3980, 191.0042, 135.7812]) Cost: 29.758139\n",
      "Epoch    7/20 hypo : tensor([150.1744, 180.5042, 177.8508, 193.6753, 137.6805]) Cost: 10.445305\n",
      "Epoch    8/20 hypo : tensor([151.3336, 181.8983, 179.2240, 195.1707, 138.7440]) Cost: 4.391228\n",
      "Epoch    9/20 hypo : tensor([151.9824, 182.6789, 179.9928, 196.0079, 139.3396]) Cost: 2.493135\n",
      "Epoch   10/20 hypo : tensor([152.3454, 183.1161, 180.4231, 196.4765, 139.6732]) Cost: 1.897688\n",
      "Epoch   11/20 hypo : tensor([152.5485, 183.3610, 180.6640, 196.7389, 139.8602]) Cost: 1.710541\n",
      "Epoch   12/20 hypo : tensor([152.6620, 183.4982, 180.7988, 196.8857, 139.9651]) Cost: 1.651412\n",
      "Epoch   13/20 hypo : tensor([152.7253, 183.5752, 180.8742, 196.9678, 140.0240]) Cost: 1.632387\n",
      "Epoch   14/20 hypo : tensor([152.7606, 183.6184, 180.9164, 197.0138, 140.0571]) Cost: 1.625923\n",
      "Epoch   15/20 hypo : tensor([152.7802, 183.6427, 180.9399, 197.0395, 140.0759]) Cost: 1.623412\n",
      "Epoch   16/20 hypo : tensor([152.7909, 183.6565, 180.9530, 197.0538, 140.0865]) Cost: 1.622141\n",
      "Epoch   17/20 hypo : tensor([152.7968, 183.6643, 180.9603, 197.0618, 140.0927]) Cost: 1.621253\n",
      "Epoch   18/20 hypo : tensor([152.7999, 183.6688, 180.9644, 197.0662, 140.0963]) Cost: 1.620500\n",
      "Epoch   19/20 hypo : tensor([152.8014, 183.6715, 180.9666, 197.0686, 140.0985]) Cost: 1.619770\n",
      "Epoch   20/20 hypo : tensor([152.8020, 183.6731, 180.9677, 197.0699, 140.1000]) Cost: 1.619033\n"
     ]
    }
   ],
   "source": [
    "## 다중선형회귀\n",
    "x_train = torch.FloatTensor([[73,80,75],[93,88,93],[89,91,90],[96,98,100],[73,66,70]])\n",
    "y_train = torch.FloatTensor([[152],[185],[180],[196],[142]])\n",
    "\n",
    "w = torch.zeros((3,1), requires_grad=True)\n",
    "b = torch.zeros(1, requires_grad=True)\n",
    "\n",
    "opt = torch.optim.SGD([w,b], lr=1e-5)\n",
    "\n",
    "nb_epoch = 20\n",
    "for epoch in range(nb_epoch + 1):\n",
    "    hypo = x_train.matmul(w) + b\n",
    "    cost = torch.mean((hypo - y_train) ** 2)\n",
    "    \n",
    "    opt.zero_grad()\n",
    "    cost.backward()\n",
    "    opt.step()\n",
    "    \n",
    "    print('Epoch {:4d}/{} hypo : {} Cost: {:.6f}'.format(epoch, nb_epoch, hypo.squeeze().detach(),cost.item()))"
   ]
  },
  {
   "cell_type": "code",
   "execution_count": 8,
   "metadata": {},
   "outputs": [
    {
     "name": "stdout",
     "output_type": "stream",
     "text": [
      "Epoch    0/20 Hypothesis: tensor([ 82.6492, 101.8116,  99.0427, 107.8335,  78.2917]), Cost: 6023.204102\n",
      "Epoch    1/20 Hypothesis: tensor([112.9574, 138.2399, 134.9361, 146.9205, 106.0774]), Cost: 1888.163086\n",
      "Epoch    2/20 Hypothesis: tensor([129.9259, 158.6349, 155.0315, 168.8039, 121.6336]), Cost: 592.046692\n",
      "Epoch    3/20 Hypothesis: tensor([139.4259, 170.0533, 166.2822, 181.0556, 130.3430]), Cost: 185.783051\n",
      "Epoch    4/20 Hypothesis: tensor([144.7445, 176.4460, 172.5810, 187.9148, 135.2191]), Cost: 58.441231\n",
      "Epoch    5/20 Hypothesis: tensor([147.7222, 180.0251, 176.1075, 191.7551, 137.9491]), Cost: 18.526140\n",
      "Epoch    6/20 Hypothesis: tensor([149.3893, 182.0289, 178.0818, 193.9051, 139.4775]), Cost: 6.014852\n",
      "Epoch    7/20 Hypothesis: tensor([150.3226, 183.1508, 179.1872, 195.1087, 140.3333]), Cost: 2.093277\n",
      "Epoch    8/20 Hypothesis: tensor([150.8451, 183.7789, 179.8060, 195.7826, 140.8124]), Cost: 0.864031\n",
      "Epoch    9/20 Hypothesis: tensor([151.1376, 184.1306, 180.1525, 196.1599, 141.0807]), Cost: 0.478715\n",
      "Epoch   10/20 Hypothesis: tensor([151.3013, 184.3275, 180.3464, 196.3711, 141.2310]), Cost: 0.357917\n",
      "Epoch   11/20 Hypothesis: tensor([151.3929, 184.4378, 180.4550, 196.4893, 141.3151]), Cost: 0.320037\n",
      "Epoch   12/20 Hypothesis: tensor([151.4442, 184.4995, 180.5158, 196.5555, 141.3622]), Cost: 0.308153\n",
      "Epoch   13/20 Hypothesis: tensor([151.4729, 184.5341, 180.5498, 196.5926, 141.3886]), Cost: 0.304410\n",
      "Epoch   14/20 Hypothesis: tensor([151.4889, 184.5535, 180.5688, 196.6133, 141.4035]), Cost: 0.303222\n",
      "Epoch   15/20 Hypothesis: tensor([151.4979, 184.5644, 180.5795, 196.6249, 141.4118]), Cost: 0.302829\n",
      "Epoch   16/20 Hypothesis: tensor([151.5028, 184.5705, 180.5854, 196.6314, 141.4165]), Cost: 0.302693\n",
      "Epoch   17/20 Hypothesis: tensor([151.5056, 184.5739, 180.5888, 196.6350, 141.4192]), Cost: 0.302630\n",
      "Epoch   18/20 Hypothesis: tensor([151.5071, 184.5759, 180.5906, 196.6370, 141.4207]), Cost: 0.302600\n",
      "Epoch   19/20 Hypothesis: tensor([151.5079, 184.5770, 180.5917, 196.6381, 141.4216]), Cost: 0.302566\n",
      "Epoch   20/20 Hypothesis: tensor([151.5084, 184.5776, 180.5922, 196.6387, 141.4221]), Cost: 0.302547\n"
     ]
    }
   ],
   "source": [
    "## class를 이용한 다중선형회귀\n",
    "\n",
    "import torch.nn as nn\n",
    "import torch.nn.functional as F\n",
    "\n",
    "class MultivariateLinearRegressionModel(nn.Module):\n",
    "    def __init__(self):\n",
    "        super().__init__()\n",
    "        self.linear = nn.Linear(3,1)\n",
    "        \n",
    "    def forward(self, x):\n",
    "        return self.linear(x)\n",
    "\n",
    "x_train = torch.FloatTensor([[73,80,75],[93,88,93],[89,91,90],[96,98,100],[73,66,70]])\n",
    "y_train = torch.FloatTensor([[152],[185],[180],[196],[142]])\n",
    "    \n",
    "model=MultivariateLinearRegressionModel()\n",
    "optimizer=torch.optim.SGD(model.parameters(),lr=1e-5)\n",
    "nb_epochs=20\n",
    "\n",
    "for epoch in range(nb_epochs+1):\n",
    "    Hypothesis=model(x_train)\n",
    "    cost=F.mse_loss(Hypothesis,y_train)\n",
    "    optimizer.zero_grad()\n",
    "    \n",
    "    cost.backward()\n",
    "    optimizer.step()\n",
    "    print('Epoch {:4d}/{} Hypothesis: {}, Cost: {:.6f}'.format(epoch,nb_epochs,Hypothesis.squeeze().detach(),cost.item()))\n"
   ]
  },
  {
   "cell_type": "code",
   "execution_count": 28,
   "metadata": {},
   "outputs": [
    {
     "name": "stdout",
     "output_type": "stream",
     "text": [
      "Epoch    0/20 batch: 1/3, Cost: 34509.062500\n",
      "Epoch    0/20 batch: 2/3, Cost: 8378.459961\n",
      "Epoch    0/20 batch: 3/3, Cost: 4043.194824\n",
      "Epoch    1/20 batch: 1/3, Cost: 985.153625\n",
      "Epoch    1/20 batch: 2/3, Cost: 186.964783\n",
      "Epoch    1/20 batch: 3/3, Cost: 118.014198\n",
      "Epoch    2/20 batch: 1/3, Cost: 18.098715\n",
      "Epoch    2/20 batch: 2/3, Cost: 11.047340\n",
      "Epoch    2/20 batch: 3/3, Cost: 1.249609\n",
      "Epoch    3/20 batch: 1/3, Cost: 2.205516\n",
      "Epoch    3/20 batch: 2/3, Cost: 0.084831\n",
      "Epoch    3/20 batch: 3/3, Cost: 0.156028\n",
      "Epoch    4/20 batch: 1/3, Cost: 1.048458\n",
      "Epoch    4/20 batch: 2/3, Cost: 0.332785\n",
      "Epoch    4/20 batch: 3/3, Cost: 0.051705\n",
      "Epoch    5/20 batch: 1/3, Cost: 1.037663\n",
      "Epoch    5/20 batch: 2/3, Cost: 0.287627\n",
      "Epoch    5/20 batch: 3/3, Cost: 0.001999\n",
      "Epoch    6/20 batch: 1/3, Cost: 0.911425\n",
      "Epoch    6/20 batch: 2/3, Cost: 0.390446\n",
      "Epoch    6/20 batch: 3/3, Cost: 0.069177\n",
      "Epoch    7/20 batch: 1/3, Cost: 1.042158\n",
      "Epoch    7/20 batch: 2/3, Cost: 0.394659\n",
      "Epoch    7/20 batch: 3/3, Cost: 0.036293\n",
      "Epoch    8/20 batch: 1/3, Cost: 0.046899\n",
      "Epoch    8/20 batch: 2/3, Cost: 1.129869\n",
      "Epoch    8/20 batch: 3/3, Cost: 0.002956\n",
      "Epoch    9/20 batch: 1/3, Cost: 0.854920\n",
      "Epoch    9/20 batch: 2/3, Cost: 0.418998\n",
      "Epoch    9/20 batch: 3/3, Cost: 0.078135\n",
      "Epoch   10/20 batch: 1/3, Cost: 0.132371\n",
      "Epoch   10/20 batch: 2/3, Cost: 0.109313\n",
      "Epoch   10/20 batch: 3/3, Cost: 2.060663\n",
      "Epoch   11/20 batch: 1/3, Cost: 0.455195\n",
      "Epoch   11/20 batch: 2/3, Cost: 1.190684\n",
      "Epoch   11/20 batch: 3/3, Cost: 0.005563\n",
      "Epoch   12/20 batch: 1/3, Cost: 0.012158\n",
      "Epoch   12/20 batch: 2/3, Cost: 0.263818\n",
      "Epoch   12/20 batch: 3/3, Cost: 2.220389\n",
      "Epoch   13/20 batch: 1/3, Cost: 0.100953\n",
      "Epoch   13/20 batch: 2/3, Cost: 0.558932\n",
      "Epoch   13/20 batch: 3/3, Cost: 1.953238\n",
      "Epoch   14/20 batch: 1/3, Cost: 0.288444\n",
      "Epoch   14/20 batch: 2/3, Cost: 1.004597\n",
      "Epoch   14/20 batch: 3/3, Cost: 0.069499\n",
      "Epoch   15/20 batch: 1/3, Cost: 0.011856\n",
      "Epoch   15/20 batch: 2/3, Cost: 0.326547\n",
      "Epoch   15/20 batch: 3/3, Cost: 2.147645\n",
      "Epoch   16/20 batch: 1/3, Cost: 0.688738\n",
      "Epoch   16/20 batch: 2/3, Cost: 0.633177\n",
      "Epoch   16/20 batch: 3/3, Cost: 0.019570\n",
      "Epoch   17/20 batch: 1/3, Cost: 0.057464\n",
      "Epoch   17/20 batch: 2/3, Cost: 0.857627\n",
      "Epoch   17/20 batch: 3/3, Cost: 0.827884\n",
      "Epoch   18/20 batch: 1/3, Cost: 0.095020\n",
      "Epoch   18/20 batch: 2/3, Cost: 1.250660\n",
      "Epoch   18/20 batch: 3/3, Cost: 0.143778\n",
      "Epoch   19/20 batch: 1/3, Cost: 0.025568\n",
      "Epoch   19/20 batch: 2/3, Cost: 0.215621\n",
      "Epoch   19/20 batch: 3/3, Cost: 2.270784\n",
      "Epoch   20/20 batch: 1/3, Cost: 0.692888\n",
      "Epoch   20/20 batch: 2/3, Cost: 0.606250\n",
      "Epoch   20/20 batch: 3/3, Cost: 0.016253\n"
     ]
    }
   ],
   "source": [
    "from torch.utils.data import Dataset\n",
    "import torch.nn as nn\n",
    "import torch.nn.functional as F\n",
    "from torch.utils.data import DataLoader\n",
    "\n",
    "class customdataset(Dataset):\n",
    "    def __init__(self):\n",
    "        self.x_data = [[73,80,75],[93,88,93],[89,91,90],[96,98,100],[73,66,70]]\n",
    "        self.y_data = [[152],[185],[180],[196],[142]]\n",
    "        \n",
    "    def __len__(self):\n",
    "        return len(self.x_data)\n",
    "    \n",
    "    def __getitem__(self, idx):\n",
    "        x = torch.FloatTensor(self.x_data[idx])\n",
    "        y = torch.FloatTensor(self.y_data[idx])\n",
    "        \n",
    "        return x,y\n",
    "    \n",
    "model = nn.Linear(3,1)\n",
    "optimizer = torch.optim.SGD(model.parameters(),lr=1e-5)\n",
    "\n",
    "dataset = customdataset()\n",
    "dataloader = DataLoader(dataset, batch_size = 2, shuffle = True)\n",
    "\n",
    "nb_epochs = 20\n",
    "for epoch in range(nb_epochs+1):\n",
    "    for batch_idx, samples in enumerate(dataloader):\n",
    "        x_train, y_train = samples\n",
    "        \n",
    "        Hypothesis=model(x_train)\n",
    "        cost=F.mse_loss(Hypothesis,y_train)\n",
    "        \n",
    "        optimizer.zero_grad()\n",
    "        cost.backward()\n",
    "        optimizer.step()\n",
    "        print('Epoch {:4d}/{} batch: {}/{}, Cost: {:.6f}'.format(epoch,nb_epochs,batch_idx + 1,len(dataloader),cost.item()))\n"
   ]
  },
  {
   "cell_type": "code",
   "execution_count": null,
   "metadata": {},
   "outputs": [],
   "source": []
  }
 ],
 "metadata": {
  "kernelspec": {
   "display_name": "Python 3",
   "language": "python",
   "name": "python3"
  },
  "language_info": {
   "codemirror_mode": {
    "name": "ipython",
    "version": 3
   },
   "file_extension": ".py",
   "mimetype": "text/x-python",
   "name": "python",
   "nbconvert_exporter": "python",
   "pygments_lexer": "ipython3",
   "version": "3.8.5"
  }
 },
 "nbformat": 4,
 "nbformat_minor": 4
}
